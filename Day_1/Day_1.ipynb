{
  "nbformat": 4,
  "nbformat_minor": 0,
  "metadata": {
    "colab": {
      "provenance": [],
      "authorship_tag": "ABX9TyMhvhBT842zM8NPx+DNvBsW",
      "include_colab_link": true
    },
    "kernelspec": {
      "name": "python3",
      "display_name": "Python 3"
    },
    "language_info": {
      "name": "python"
    }
  },
  "cells": [
    {
      "cell_type": "markdown",
      "metadata": {
        "id": "view-in-github",
        "colab_type": "text"
      },
      "source": [
        "<a href=\"https://colab.research.google.com/github/Kristapinato/DBMS/blob/main/Day_1/Day_1.ipynb\" target=\"_parent\"><img src=\"https://colab.research.google.com/assets/colab-badge.svg\" alt=\"Open In Colab\"/></a>"
      ]
    },
    {
      "cell_type": "markdown",
      "source": [
        "What is 7 to the power of 4?"
      ],
      "metadata": {
        "id": "NS-gNw2nJHN8"
      }
    },
    {
      "cell_type": "code",
      "execution_count": null,
      "metadata": {
        "colab": {
          "base_uri": "https://localhost:8080/"
        },
        "id": "Pcw6QqsCIPph",
        "outputId": "968ee859-b316-4fa6-dcdc-5ffaebc4467c"
      },
      "outputs": [
        {
          "output_type": "stream",
          "name": "stdout",
          "text": [
            "2401.0\n"
          ]
        }
      ],
      "source": [
        "import math\n",
        "print(math.pow(7,4))"
      ]
    },
    {
      "cell_type": "markdown",
      "source": [
        "** Split this string into a list : s = \"Hi there Sam!\"**"
      ],
      "metadata": {
        "id": "VmLdCSGMJFB7"
      }
    },
    {
      "cell_type": "code",
      "source": [
        "s = \"Hi there Sam!\"\n",
        "print(list(s))"
      ],
      "metadata": {
        "colab": {
          "base_uri": "https://localhost:8080/"
        },
        "id": "nItSYW-LRi_1",
        "outputId": "41e0c927-69e5-436f-d7bf-69f0a1392f1a"
      },
      "execution_count": null,
      "outputs": [
        {
          "output_type": "stream",
          "name": "stdout",
          "text": [
            "['H', 'i', ' ', 't', 'h', 'e', 'r', 'e', ' ', 'S', 'a', 'm', '!']\n"
          ]
        }
      ]
    },
    {
      "cell_type": "markdown",
      "source": [
        "** Given the variables:**\n",
        "planet = \"Earth\"\n",
        "diameter = 12742\n",
        "** Use .format() to print the following string: The diameter of Earth is 12742 kilometers. **"
      ],
      "metadata": {
        "id": "2-UwwzIkRyNb"
      }
    },
    {
      "cell_type": "code",
      "source": [
        "planet = \"Earth\"\n",
        "diameter = 12742\n",
        "print(\"The diameter of {} is {} kilometers\".format(planet,diameter))"
      ],
      "metadata": {
        "colab": {
          "base_uri": "https://localhost:8080/"
        },
        "id": "l-d2jcxDSCJJ",
        "outputId": "fc8519f5-acf5-44d8-890b-70310dc0ff9a"
      },
      "execution_count": null,
      "outputs": [
        {
          "output_type": "stream",
          "name": "stdout",
          "text": [
            "The diameter of Earth is 12742 kilometers\n"
          ]
        }
      ]
    },
    {
      "cell_type": "markdown",
      "source": [
        "** Given this nested list, use indexing to grab the word \"hello\" **"
      ],
      "metadata": {
        "id": "rICooGTBcO48"
      }
    },
    {
      "cell_type": "code",
      "source": [
        "d = {'k1':[1,2,3,{'tricky':['oh','man','inception',{'target':[1,2,3,'hello']}]}]}\n",
        "print(d['k1'][3]['tricky'][3]['target'][3])"
      ],
      "metadata": {
        "colab": {
          "base_uri": "https://localhost:8080/"
        },
        "id": "HfvxbMu3cPlo",
        "outputId": "14414df5-d6eb-4c6f-ac96-dba4402c12e2"
      },
      "execution_count": null,
      "outputs": [
        {
          "output_type": "stream",
          "name": "stdout",
          "text": [
            "hello\n"
          ]
        }
      ]
    },
    {
      "cell_type": "markdown",
      "source": [],
      "metadata": {
        "id": "-HzvNy0xdVEK"
      }
    }
  ]
}